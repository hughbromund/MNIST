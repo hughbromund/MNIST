{
 "cells": [
  {
   "cell_type": "code",
   "execution_count": 8,
   "metadata": {},
   "outputs": [
    {
     "name": "stdout",
     "output_type": "stream",
     "text": [
      "keras version  2.2.4\n"
     ]
    }
   ],
   "source": [
    "import matplotlib.pyplot as plt\n",
    "import tensorflow as tf\n",
    "import keras\n",
    "from keras.datasets import mnist\n",
    "from keras.models import Sequential\n",
    "from keras.layers import Dense, Dropout, Flatten\n",
    "from keras.layers import Conv2D, MaxPooling2D\n",
    "from keras.utils import np_utils\n",
    "from keras import backend as K\n",
    "\n",
    "print('keras version ', keras.__version__)"
   ]
  },
  {
   "cell_type": "code",
   "execution_count": 76,
   "metadata": {},
   "outputs": [
    {
     "name": "stdout",
     "output_type": "stream",
     "text": [
      "(60000, 28, 28)\n",
      "(60000,)\n",
      "(10000, 28, 28)\n",
      "(10000,)\n"
     ]
    }
   ],
   "source": [
    "(x_train, y_train), (x_val, y_val) = mnist.load_data()\n",
    "print(x_train.shape)\n",
    "print(y_train.shape)\n",
    "print(x_val.shape)\n",
    "print(y_val.shape)"
   ]
  },
  {
   "cell_type": "code",
   "execution_count": 77,
   "metadata": {},
   "outputs": [
    {
     "data": {
      "image/png": "[encoded data removed]",
      "text/plain": [
       "<Figure size 432x288 with 1 Axes>"
      ]
     },
     "metadata": {
      "needs_background": "light"
     },
     "output_type": "display_data"
    }
   ],
   "source": [
    "plt.imshow(x_train[1])\n",
    "plt.show()"
   ]
  },
  {
   "cell_type": "code",
   "execution_count": 78,
   "metadata": {},
   "outputs": [],
   "source": [
    "img_rows = x_train.shape[1] # This tells tensorflow the height of each image, in this case 28\n",
    "img_cols = x_train.shape[2] # This tells tensorflow the width of each image, in this case 28\n",
    "num_classes = 10 # This defines the number of possible clasifications we could have"
   ]
  },
  {
   "cell_type": "code",
   "execution_count": 79,
   "metadata": {},
   "outputs": [
    {
     "name": "stdout",
     "output_type": "stream",
     "text": [
      "channels_last\n"
     ]
    }
   ],
   "source": [
    "print(K.image_data_format())\n",
    "\n",
    "# This reshapes the x_train data so that it has a third dimension for the depth of pixels\n",
    "x_train = x_train.reshape(x_train.shape[0], img_rows, img_cols, 1) \n",
    "x_val = x_val.reshape(x_val.shape[0], img_rows, img_cols, 1)\n",
    "\n",
    "# This specifies what each image shape will look like when passed into the network\n",
    "input_shape = (img_rows, img_cols, 1)"
   ]
  },
  {
   "cell_type": "code",
   "execution_count": 80,
   "metadata": {},
   "outputs": [],
   "source": [
    "# This converts all values inside of the data to be float32\n",
    "x_train = x_train.astype('float32')\n",
    "x_val = x_val.astype('float32')\n",
    "\n",
    "# Each pixel in the image has a value between [0-255], so dividing by 255 will make the range between [0-1] \n",
    "x_train = x_train / 255\n",
    "x_val = x_val/ 255"
   ]
  },
  {
   "cell_type": "code",
   "execution_count": 81,
   "metadata": {},
   "outputs": [
    {
     "name": "stdout",
     "output_type": "stream",
     "text": [
      "(60000, 28, 28, 1)\n",
      "(60000,)\n",
      "(10000, 28, 28, 1)\n",
      "(10000,)\n"
     ]
    }
   ],
   "source": [
    "print(x_train.shape)\n",
    "print(y_train.shape)\n",
    "print(x_val.shape)\n",
    "print(y_val.shape)"
   ]
  },
  {
   "cell_type": "code",
   "execution_count": 82,
   "metadata": {},
   "outputs": [
    {
     "name": "stdout",
     "output_type": "stream",
     "text": [
      "y_train shape:  (60000,)\n",
      "5\n",
      "0\n",
      "4\n",
      "1\n",
      "9\n",
      "2\n",
      "1\n",
      "3\n",
      "1\n",
      "4\n",
      "New y_train shape:  (60000, 10)\n"
     ]
    }
   ],
   "source": [
    "# RUN THIS CODE ONLY ONCE\n",
    "print('y_train shape: ', y_train.shape)\n",
    "for i in range(10):\n",
    "    print(y_train[i])\n",
    "y_train = np_utils.to_categorical(y_train, num_classes)\n",
    "y_val = np_utils.to_categorical(y_val, num_classes)\n",
    "print('New y_train shape: ', y_train.shape)"
   ]
  },
  {
   "cell_type": "code",
   "execution_count": 83,
   "metadata": {},
   "outputs": [
    {
     "name": "stdout",
     "output_type": "stream",
     "text": [
      "New y_train shape:  (60000, 10)\n",
      "First 10 y_train elements, reshaped:\n",
      " [[0. 0. 0. 0. 0. 1. 0. 0. 0. 0.]\n",
      " [1. 0. 0. 0. 0. 0. 0. 0. 0. 0.]\n",
      " [0. 0. 0. 0. 1. 0. 0. 0. 0. 0.]\n",
      " [0. 1. 0. 0. 0. 0. 0. 0. 0. 0.]\n",
      " [0. 0. 0. 0. 0. 0. 0. 0. 0. 1.]\n",
      " [0. 0. 1. 0. 0. 0. 0. 0. 0. 0.]\n",
      " [0. 1. 0. 0. 0. 0. 0. 0. 0. 0.]\n",
      " [0. 0. 0. 1. 0. 0. 0. 0. 0. 0.]\n",
      " [0. 1. 0. 0. 0. 0. 0. 0. 0. 0.]\n",
      " [0. 0. 0. 0. 1. 0. 0. 0. 0. 0.]]\n"
     ]
    }
   ],
   "source": [
    "print('New y_train shape: ', y_train.shape)\n",
    "# (60000, 10)\n",
    "print('First 10 y_train elements, reshaped:\\n', y_train[:10])\n",
    "# An array of 10 arrays, each with 10 elements, \n",
    "# all zeros except at index 5, 0, 4, 1, 9 etc."
   ]
  },
  {
   "cell_type": "code",
   "execution_count": 84,
   "metadata": {},
   "outputs": [
    {
     "name": "stdout",
     "output_type": "stream",
     "text": [
      "_________________________________________________________________\n",
      "Layer (type)                 Output Shape              Param #   \n",
      "=================================================================\n",
      "conv2d_14 (Conv2D)           (None, 24, 24, 32)        832       \n",
      "_________________________________________________________________\n",
      "max_pooling2d_12 (MaxPooling (None, 12, 12, 32)        0         \n",
      "_________________________________________________________________\n",
      "dropout_14 (Dropout)         (None, 12, 12, 32)        0         \n",
      "_________________________________________________________________\n",
      "conv2d_15 (Conv2D)           (None, 10, 10, 64)        18496     \n",
      "_________________________________________________________________\n",
      "max_pooling2d_13 (MaxPooling (None, 5, 5, 64)          0         \n",
      "_________________________________________________________________\n",
      "dropout_15 (Dropout)         (None, 5, 5, 64)          0         \n",
      "_________________________________________________________________\n",
      "conv2d_16 (Conv2D)           (None, 5, 5, 128)         8320      \n",
      "_________________________________________________________________\n",
      "max_pooling2d_14 (MaxPooling (None, 2, 2, 128)         0         \n",
      "_________________________________________________________________\n",
      "dropout_16 (Dropout)         (None, 2, 2, 128)         0         \n",
      "_________________________________________________________________\n",
      "flatten_6 (Flatten)          (None, 512)               0         \n",
      "_________________________________________________________________\n",
      "dense_11 (Dense)             (None, 128)               65664     \n",
      "_________________________________________________________________\n",
      "dense_12 (Dense)             (None, 10)                1290      \n",
      "=================================================================\n",
      "Total params: 94,602\n",
      "Trainable params: 94,602\n",
      "Non-trainable params: 0\n",
      "_________________________________________________________________\n",
      "None\n"
     ]
    }
   ],
   "source": [
    "model_m = Sequential()\n",
    "model_m.add(Conv2D(32, (5, 5), input_shape=input_shape, activation='relu'))\n",
    "model_m.add(MaxPooling2D(pool_size=(2, 2)))\n",
    "model_m.add(Dropout(0.5))\n",
    "model_m.add(Conv2D(64, (3, 3), activation='relu'))\n",
    "model_m.add(MaxPooling2D(pool_size=(2, 2)))\n",
    "model_m.add(Dropout(0.2))\n",
    "model_m.add(Conv2D(128, (1, 1), activation='relu'))\n",
    "model_m.add(MaxPooling2D(pool_size=(2, 2)))\n",
    "model_m.add(Dropout(0.2))\n",
    "model_m.add(Flatten())\n",
    "model_m.add(Dense(128, activation='relu'))\n",
    "model_m.add(Dense(num_classes, activation='softmax'))\n",
    "# Inspect model's layers, output shapes, number of trainable parameters\n",
    "print(model_m.summary())"
   ]
  },
  {
   "cell_type": "code",
   "execution_count": 85,
   "metadata": {},
   "outputs": [
    {
     "name": "stdout",
     "output_type": "stream",
     "text": [
      "_________________________________________________________________\n",
      "Layer (type)                 Output Shape              Param #   \n",
      "=================================================================\n",
      "conv2d_17 (Conv2D)           (None, 26, 26, 32)        320       \n",
      "_________________________________________________________________\n",
      "conv2d_18 (Conv2D)           (None, 24, 24, 64)        18496     \n",
      "_________________________________________________________________\n",
      "max_pooling2d_15 (MaxPooling (None, 12, 12, 64)        0         \n",
      "_________________________________________________________________\n",
      "dropout_17 (Dropout)         (None, 12, 12, 64)        0         \n",
      "_________________________________________________________________\n",
      "flatten_7 (Flatten)          (None, 9216)              0         \n",
      "_________________________________________________________________\n",
      "dense_13 (Dense)             (None, 128)               1179776   \n",
      "_________________________________________________________________\n",
      "dropout_18 (Dropout)         (None, 128)               0         \n",
      "_________________________________________________________________\n",
      "dense_14 (Dense)             (None, 10)                1290      \n",
      "=================================================================\n",
      "Total params: 1,199,882\n",
      "Trainable params: 1,199,882\n",
      "Non-trainable params: 0\n",
      "_________________________________________________________________\n",
      "None\n"
     ]
    }
   ],
   "source": [
    "model_c = Sequential()\n",
    "model_c.add(Conv2D(32, (3, 3), input_shape=input_shape, activation='relu'))\n",
    "# Note: hwchong, elitedatascience use 32 for second Conv2D\n",
    "model_c.add(Conv2D(64, (3, 3), activation='relu'))\n",
    "model_c.add(MaxPooling2D(pool_size=(2, 2)))\n",
    "model_c.add(Dropout(0.25))\n",
    "model_c.add(Flatten())\n",
    "model_c.add(Dense(128, activation='relu'))\n",
    "model_c.add(Dropout(0.5))\n",
    "model_c.add(Dense(num_classes, activation='softmax'))\n",
    "# Inspect model's layers, output shapes, number of trainable parameters\n",
    "print(model_c.summary())"
   ]
  },
  {
   "cell_type": "code",
   "execution_count": 86,
   "metadata": {},
   "outputs": [],
   "source": [
    "callbacks_list = [\n",
    "    keras.callbacks.ModelCheckpoint(\n",
    "        filepath='best_model.{epoch:02d}-{val_loss:.2f}.h5',\n",
    "        monitor='val_loss', save_best_only=True),\n",
    "    keras.callbacks.EarlyStopping(monitor='acc', patience=1)\n",
    "]"
   ]
  },
  {
   "cell_type": "code",
   "execution_count": null,
   "metadata": {},
   "outputs": [
    {
     "name": "stdout",
     "output_type": "stream",
     "text": [
      "Train on 60000 samples, validate on 10000 samples\n",
      "Epoch 1/10\n",
      "60000/60000 [==============================] - 70s 1ms/step - loss: 0.3001 - acc: 0.9073 - val_loss: 0.0591 - val_acc: 0.9814\n",
      "Epoch 2/10\n",
      "60000/60000 [==============================] - 67s 1ms/step - loss: 0.0991 - acc: 0.9711 - val_loss: 0.0419 - val_acc: 0.9872\n",
      "Epoch 3/10\n",
      "60000/60000 [==============================] - 70s 1ms/step - loss: 0.0734 - acc: 0.9783 - val_loss: 0.0373 - val_acc: 0.9885\n",
      "Epoch 4/10\n",
      "60000/60000 [==============================] - 69s 1ms/step - loss: 0.0596 - acc: 0.9825 - val_loss: 0.0297 - val_acc: 0.9901\n",
      "Epoch 5/10\n",
      "60000/60000 [==============================] - 70s 1ms/step - loss: 0.0497 - acc: 0.9848 - val_loss: 0.0334 - val_acc: 0.9897\n",
      "Epoch 6/10\n",
      "60000/60000 [==============================] - 68s 1ms/step - loss: 0.0450 - acc: 0.9860 - val_loss: 0.0273 - val_acc: 0.9909\n",
      "Epoch 7/10\n",
      "60000/60000 [==============================] - 67s 1ms/step - loss: 0.0393 - acc: 0.9877 - val_loss: 0.0281 - val_acc: 0.9905\n",
      "Epoch 8/10\n",
      "60000/60000 [==============================] - 67s 1ms/step - loss: 0.0344 - acc: 0.9891 - val_loss: 0.0288 - val_acc: 0.9911\n",
      "Epoch 9/10\n",
      "55000/60000 [==========================>...] - ETA: 5s - loss: 0.0320 - acc: 0.9899"
     ]
    }
   ],
   "source": [
    "model_c.compile(loss='categorical_crossentropy',\n",
    "                optimizer='adam', metrics=['accuracy'])\n",
    "\n",
    "# Hyper-parameters\n",
    "batch_size = 200\n",
    "epochs = 10\n",
    "\n",
    "# Enable validation to use ModelCheckpoint and EarlyStopping callbacks.\n",
    "model_c.fit(\n",
    "    x_train, y_train, batch_size=batch_size, epochs=epochs,\n",
    "    callbacks=callbacks_list, validation_data=(x_val, y_val), verbose=1)\n"
   ]
  }
 ],
 "metadata": {
  "kernelspec": {
   "display_name": "Python 3",
   "language": "python",
   "name": "python3"
  },
  "language_info": {
   "codemirror_mode": {
    "name": "ipython",
    "version": 3
   },
   "file_extension": ".py",
   "mimetype": "text/x-python",
   "name": "python",
   "nbconvert_exporter": "python",
   "pygments_lexer": "ipython3",
   "version": "3.7.3"
  }
 },
 "nbformat": 4,
 "nbformat_minor": 2
}
